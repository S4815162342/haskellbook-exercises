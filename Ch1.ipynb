{
 "cells": [
  {
   "cell_type": "markdown",
   "metadata": {},
   "source": [
    "# Haskell Programming from First Principles \n",
    "## Chapter 1: All you need is Lambda"
   ]
  },
  {
   "cell_type": "markdown",
   "metadata": {},
   "source": [
    "### In-text examples & excercises\n"
   ]
  },
  {
   "cell_type": "markdown",
   "metadata": {},
   "source": [
    "### 1.4 The structure of lambda terms\n",
    "#### Alpha Equivalence\n",
    "\n",
    "Alpha equivalence means that\n",
    "\n",
    "$\\lambda$x.x = $\\lambda$a.a = $\\lambda$$\\theta$.$\\theta$"
   ]
  },
  {
   "cell_type": "markdown",
   "metadata": {},
   "source": [
    "### 1.5 Beta reduction\n",
    "\n",
    "It is the process of applying a function to an argument: substituting the variables in the expression by their bound values and eliminate the head of the abstraction.\n",
    "\n",
    "For example:\n",
    "\n",
    "$\\lambda$x.x 2 = 2\n",
    "\n",
    "($\\lambda$x.x)($\\lambda$y.y)z = (($\\lambda$x.x)($\\lambda$y.y))z = ($\\lambda$y.y)z = z "
   ]
  },
  {
   "cell_type": "markdown",
   "metadata": {},
   "source": [
    "#### Free variables\n",
    "\n",
    "For example,\n",
    "\n",
    "($\\lambda$x.xy)z = zy ; y is a free variable."
   ]
  },
  {
   "cell_type": "markdown",
   "metadata": {},
   "source": [
    "### 1.6 Multiple Arguments\n",
    "\n",
    "Currying: Successively applying and eliminating the leftmost heads in lambda expressions."
   ]
  },
  {
   "cell_type": "markdown",
   "metadata": {},
   "source": [
    "##### Intermission: Equivalence Exercises"
   ]
  },
  {
   "cell_type": "markdown",
   "metadata": {},
   "source": [
    "-- p. 13\n",
    "\n",
    "1. $\\lambda$xy.xz = $\\lambda$x.$\\lambda$y.xz = $\\lambda$mn.mz ; Answer b.\n",
    "2. $\\lambda$xy.xxy = $\\lambda$x.$\\lambda$y.xxy = $\\lambda$a.($\\lambda$b.aab) ; Answer c\n",
    "3. $\\lambda$xyz.zx = $\\lambda$x.$\\lambda$y.$\\lambda$z.zx = $\\lambda$tos.st ; Answer b"
   ]
  },
  {
   "cell_type": "markdown",
   "metadata": {},
   "source": [
    "### 1.8 Combinators\n",
    "\n",
    "Combinators serve only to combine the arguments they are given.\n",
    "\n",
    "Examples:\n",
    "\n",
    "i. $\\lambda$xy.x\n",
    "\n",
    "ii. $\\lambda$xyz.xz(yz)\n",
    " "
   ]
  },
  {
   "cell_type": "markdown",
   "metadata": {},
   "source": [
    "### 1.11 Chapter Excercises"
   ]
  },
  {
   "cell_type": "markdown",
   "metadata": {},
   "source": [
    "##### Combinators\n",
    "\n",
    "Determine if the following are combinators."
   ]
  },
  {
   "cell_type": "markdown",
   "metadata": {},
   "source": [
    "1. $\\lambda$x.xxx -- Yes.\n",
    "2. $\\lambda$xy.zx -- No.\n",
    "3. $\\lambda$xyz.xy(zx) -- Yes.\n",
    "4. $\\lambda$xyz.xy(zxy) -- Yes.\n",
    "5. $\\lambda$xy.xy(zxy) -- No."
   ]
  },
  {
   "cell_type": "markdown",
   "metadata": {},
   "source": [
    "##### Normal form or diverge? \n",
    "\n",
    "Normal form = cannot reduce expression further \\\n",
    "Diverge = further 'reduction' keeps yielding the same result."
   ]
  },
  {
   "cell_type": "markdown",
   "metadata": {
    "scrolled": true
   },
   "source": [
    "1. $\\lambda$x.xxx = xxx -- Normal form.\n",
    "2. ($\\lambda$z.zz)($\\lambda$y.yy) = ($\\lambda$y.yy)($\\lambda$y.yy) = ... -- Diverges.\n",
    "3. ($\\lambda$x.xxx)z = zzz -- Normal form."
   ]
  },
  {
   "cell_type": "markdown",
   "metadata": {},
   "source": [
    "##### Beta reduce"
   ]
  },
  {
   "cell_type": "markdown",
   "metadata": {},
   "source": [
    "1. ($\\lambda$abc.cba)zz($\\lambda$wv.w) = z\n",
    "2. ($\\lambda$x.$\\lambda$y.xyy)($\\lambda$a.a)b = bb\n",
    "3. ($\\lambda$y.y)($\\lambda$x.xx)($\\lambda$z.zq) = qq\n",
    "4. ($\\lambda$z.z)($\\lambda$z.zz)($\\lambda$z.zy) = yy\n",
    "5. ($\\lambda$x.$\\lambda$y.xyy)($\\lambda$y.y)y = zz\n",
    "6. ($\\lambda$a.aa)($\\lambda$b.ba)c = aac\n",
    "7. $(\\lambda xyz.xz(yz))(\\lambda x.z)(\\lambda x.a) = (\\lambda xyz_{1}.xz_{1}(yz_{1}))(\\lambda x.z_{2})(\\lambda x.a) = \\\\ \n",
    "= \\lambda z_{1} . (\\lambda x.z_{2}) z_{1} ((\\lambda x . a) z_{1}) = \\lambda z_{1} . z_{1} a $"
   ]
  },
  {
   "cell_type": "code",
   "execution_count": null,
   "metadata": {},
   "outputs": [],
   "source": []
  }
 ],
 "metadata": {
  "kernelspec": {
   "display_name": "Haskell",
   "language": "haskell",
   "name": "haskell"
  },
  "language_info": {
   "codemirror_mode": "ihaskell",
   "file_extension": ".hs",
   "name": "haskell",
   "pygments_lexer": "Haskell",
   "version": "8.6.5"
  }
 },
 "nbformat": 4,
 "nbformat_minor": 4
}
